{
 "cells": [
  {
   "cell_type": "code",
   "execution_count": 1,
   "id": "b2cdab8f",
   "metadata": {},
   "outputs": [
    {
     "name": "stderr",
     "output_type": "stream",
     "text": [
      "\u001b[32m\u001b[1m  Activating\u001b[22m\u001b[39m project at `~/JuliaSurvey2023`\n"
     ]
    }
   ],
   "source": [
    "using Pkg\n",
    "Pkg.activate(\".\")"
   ]
  },
  {
   "cell_type": "code",
   "execution_count": 2,
   "id": "0a760760",
   "metadata": {},
   "outputs": [],
   "source": [
    "#Pkg.instantiate()"
   ]
  },
  {
   "cell_type": "code",
   "execution_count": 3,
   "id": "0d38c28b",
   "metadata": {},
   "outputs": [],
   "source": [
    "#Pkg.resolve()"
   ]
  },
  {
   "cell_type": "code",
   "execution_count": 13,
   "id": "223ea2bf",
   "metadata": {},
   "outputs": [],
   "source": [
    "using SimilaritySearch, TextSearch, Printf"
   ]
  },
  {
   "cell_type": "code",
   "execution_count": 5,
   "id": "d07747a5",
   "metadata": {},
   "outputs": [
    {
     "data": {
      "text/plain": [
       "preprocess (generic function with 1 method)"
      ]
     },
     "execution_count": 5,
     "metadata": {},
     "output_type": "execute_result"
    }
   ],
   "source": [
    "function load_survey(filename)\n",
    "    L = [String[]]\n",
    "    for line in eachline(filename)\n",
    "        #line = strip(line)\n",
    "        if match(r\"^\\d+\\.\", line) !== nothing\n",
    "            push!(L, [line])\n",
    "        else\n",
    "            push!(L[end], line)\n",
    "        end\n",
    "    end\n",
    "\n",
    "    L\n",
    "end\n",
    "\n",
    "preprocess(line) = replace(line, \"|\" => \"\", r\"--+\" => \"\", \"- [ ]\" => \"\") |> strip"
   ]
  },
  {
   "cell_type": "code",
   "execution_count": 6,
   "id": "49310514",
   "metadata": {},
   "outputs": [
    {
     "data": {
      "text/plain": [
       "(42, 44)"
      ]
     },
     "execution_count": 6,
     "metadata": {},
     "output_type": "execute_result"
    }
   ],
   "source": [
    "L22 = load_survey(\"survey2022.txt\")\n",
    "L23 = load_survey(\"JuliaSurvey.en_US.md\")\n",
    "\n",
    "\n",
    "L23_ = [[preprocess(line) for line in block] for block in L23]\n",
    "\n",
    "length(L22), length(L23)"
   ]
  },
  {
   "cell_type": "code",
   "execution_count": null,
   "id": "2e237610",
   "metadata": {},
   "outputs": [],
   "source": []
  },
  {
   "cell_type": "code",
   "execution_count": 7,
   "id": "f3bb9f2c",
   "metadata": {},
   "outputs": [
    {
     "data": {
      "text/plain": [
       "Vocabulary(TextConfig(true, false, false, true, true, false, false, true, Int8[], Int8[2, 3], Skipgram[], true, IdentityTokenTransformation()), [\"not complete\\tn\", \"complete the\\tn\", \"the survey\\tn\", \"survey at\\tn\", \"at this\\tn\", \"this time\\tn\", \"do not complete\\tn\", \"not complete the\\tn\", \"complete the survey\\tn\", \"the survey at\\tn\"  …  \", pharmaceuticals\\tn\", \"like juliahub\\tn\", \"juliahub to\\tn\", \"to contact\\tn\", \"contact you\\tn\", \"would like juliahub\\tn\", \"like juliahub to\\tn\", \"juliahub to contact\\tn\", \"to contact you\\tn\", \"contact you to\\tn\"], Int32[2, 2, 9, 2, 2, 2, 2, 2, 2, 2  …  2, 3, 3, 2, 2, 3, 3, 2, 2, 2], Int32[2, 2, 8, 2, 2, 2, 2, 2, 2, 2  …  2, 3, 3, 2, 2, 3, 3, 2, 2, 2], Dict{String, UInt32}(\"or have not\\tn\" => 0x00000161, \"( released\\tn\" => 0x000005e8, \"classes at\\tn\" => 0x00000471, \"that the julia\\tn\" => 0x00000387, \"vi /\\tn\" => 0x00000508, \"0 ( boston\\tn\" => 0x0000057d, \"saint vincent\\tn\" => 0x0000072a, \"0 questions and\\tn\" => 0x0000008c, \"with the julia\\tn\" => 0x00000425, \"for completing the\\tn\" => 0x00000849…), 86)"
      ]
     },
     "execution_count": 7,
     "metadata": {},
     "output_type": "execute_result"
    }
   ],
   "source": [
    "voc = Vocabulary(TextConfig(nlist=[2, 3]), vcat(L22, L23_))\n",
    "voc = filter_tokens(voc) do t\n",
    "    2 <= t.ndocs <= 0.8 * length(L23_)\n",
    "end"
   ]
  },
  {
   "cell_type": "code",
   "execution_count": 8,
   "id": "4dad5fef",
   "metadata": {},
   "outputs": [
    {
     "data": {
      "text/plain": [
       "{VectorModel\n",
       "    global_weighting: BinaryGlobalWeighting()\n",
       "    local_weighting: BinaryLocalWeighting()\n",
       "    vocsize: 2276\n",
       "    trainsize=86\n",
       "    maxoccs=35                                    \n",
       "}"
      ]
     },
     "execution_count": 8,
     "metadata": {},
     "output_type": "execute_result"
    }
   ],
   "source": [
    "vmodel = VectorModel(BinaryGlobalWeighting(), BinaryLocalWeighting(), voc)"
   ]
  },
  {
   "cell_type": "code",
   "execution_count": 9,
   "id": "bb83417d",
   "metadata": {},
   "outputs": [
    {
     "data": {
      "text/plain": [
       "(42, 44)"
      ]
     },
     "execution_count": 9,
     "metadata": {},
     "output_type": "execute_result"
    }
   ],
   "source": [
    "V22 = vectorize.(Ref(vmodel), L22)\n",
    "V23 = vectorize.(Ref(vmodel), L23_)\n",
    "length(V22), length(V23)"
   ]
  },
  {
   "cell_type": "code",
   "execution_count": 10,
   "id": "cbe7693d",
   "metadata": {},
   "outputs": [
    {
     "data": {
      "text/plain": [
       "(Int32[1 2 … 40 41; 42 25 … 39 42; 41 8 … 36 1], Float32[0.08699839 0.45003694 … -5.503118f-7 0.18834649; 0.8829829 0.81632644 … 0.59999985 0.29104424; 0.8930936 0.81699634 … 0.7303925 0.8951378])"
      ]
     },
     "execution_count": 10,
     "metadata": {},
     "output_type": "execute_result"
    }
   ],
   "source": [
    "E = ExhaustiveSearch(; dist=CosineDistance(), db=VectorDatabase(V22))\n",
    "Q = VectorDatabase(V23)\n",
    "knns, dists = searchbatch(E, Q, 3)"
   ]
  },
  {
   "cell_type": "code",
   "execution_count": 17,
   "id": "8b5eed1f",
   "metadata": {
    "scrolled": false
   },
   "outputs": [],
   "source": [
    "for i in 1:size(knns, 2)\n",
    "    A, B = view(knns, :, i), view(dists, :, i)\n",
    "    path = joinpath(\"survey\", @sprintf \"%02d\" (i-1))\n",
    "    mkpath(path)\n",
    "    open(joinpath(path, \"scores.txt\"), \"w\") do f\n",
    "        for (nn, dist) in zip(A, B)\n",
    "            println(f, \"$nn  $(round(dist, digits=2))\")\n",
    "        end\n",
    "    end\n",
    "    \n",
    "    open(joinpath(path, \"23.txt\"), \"w\") do f\n",
    "        for line in L23[i]\n",
    "            println(f, line)\n",
    "        end\n",
    "    end\n",
    "    \n",
    "    open(joinpath(path, \"nearest-22.txt\"), \"w\") do f\n",
    "        for line in L22[A[1]]\n",
    "            length(line) > 0 && println(f, line)\n",
    "        end\n",
    "    end\n",
    "end\n",
    "    "
   ]
  },
  {
   "cell_type": "code",
   "execution_count": 12,
   "id": "12212b53",
   "metadata": {},
   "outputs": [
    {
     "name": "stderr",
     "output_type": "stream",
     "text": [
      "\u001b[36m\u001b[1m[ \u001b[22m\u001b[39m\u001b[36m\u001b[1mInfo: \u001b[22m\u001b[39m0 how\tn\n",
      "\u001b[36m\u001b[1m[ \u001b[22m\u001b[39m\u001b[36m\u001b[1mInfo: \u001b[22m\u001b[39mhow much\tn\n",
      "\u001b[36m\u001b[1m[ \u001b[22m\u001b[39m\u001b[36m\u001b[1mInfo: \u001b[22m\u001b[39mmuch do\tn\n",
      "\u001b[36m\u001b[1m[ \u001b[22m\u001b[39m\u001b[36m\u001b[1mInfo: \u001b[22m\u001b[39mdo you\tn\n",
      "\u001b[36m\u001b[1m[ \u001b[22m\u001b[39m\u001b[36m\u001b[1mInfo: \u001b[22m\u001b[39myou like\tn\n",
      "\u001b[36m\u001b[1m[ \u001b[22m\u001b[39m\u001b[36m\u001b[1mInfo: \u001b[22m\u001b[39mlike each\tn\n",
      "\u001b[36m\u001b[1m[ \u001b[22m\u001b[39m\u001b[36m\u001b[1mInfo: \u001b[22m\u001b[39meach of\tn\n",
      "\u001b[36m\u001b[1m[ \u001b[22m\u001b[39m\u001b[36m\u001b[1mInfo: \u001b[22m\u001b[39mof the\tn\n",
      "\u001b[36m\u001b[1m[ \u001b[22m\u001b[39m\u001b[36m\u001b[1mInfo: \u001b[22m\u001b[39mthe following\tn\n",
      "\u001b[36m\u001b[1m[ \u001b[22m\u001b[39m\u001b[36m\u001b[1mInfo: \u001b[22m\u001b[39mfollowing languages\tn\n",
      "\u001b[36m\u001b[1m[ \u001b[22m\u001b[39m\u001b[36m\u001b[1mInfo: \u001b[22m\u001b[39mlanguages ?\tn\n",
      "\u001b[36m\u001b[1m[ \u001b[22m\u001b[39m\u001b[36m\u001b[1mInfo: \u001b[22m\u001b[39m0 how much\tn\n",
      "\u001b[36m\u001b[1m[ \u001b[22m\u001b[39m\u001b[36m\u001b[1mInfo: \u001b[22m\u001b[39mhow much do\tn\n",
      "\u001b[36m\u001b[1m[ \u001b[22m\u001b[39m\u001b[36m\u001b[1mInfo: \u001b[22m\u001b[39mmuch do you\tn\n",
      "\u001b[36m\u001b[1m[ \u001b[22m\u001b[39m\u001b[36m\u001b[1mInfo: \u001b[22m\u001b[39mdo you like\tn\n",
      "\u001b[36m\u001b[1m[ \u001b[22m\u001b[39m\u001b[36m\u001b[1mInfo: \u001b[22m\u001b[39myou like each\tn\n",
      "\u001b[36m\u001b[1m[ \u001b[22m\u001b[39m\u001b[36m\u001b[1mInfo: \u001b[22m\u001b[39mlike each of\tn\n",
      "\u001b[36m\u001b[1m[ \u001b[22m\u001b[39m\u001b[36m\u001b[1mInfo: \u001b[22m\u001b[39meach of the\tn\n",
      "\u001b[36m\u001b[1m[ \u001b[22m\u001b[39m\u001b[36m\u001b[1mInfo: \u001b[22m\u001b[39mof the following\tn\n",
      "\u001b[36m\u001b[1m[ \u001b[22m\u001b[39m\u001b[36m\u001b[1mInfo: \u001b[22m\u001b[39mthe following languages\tn\n",
      "\u001b[36m\u001b[1m[ \u001b[22m\u001b[39m\u001b[36m\u001b[1mInfo: \u001b[22m\u001b[39mfollowing languages ?\tn\n",
      "\u001b[36m\u001b[1m[ \u001b[22m\u001b[39m\u001b[36m\u001b[1mInfo: \u001b[22m\u001b[39mif you\tn\n",
      "\u001b[36m\u001b[1m[ \u001b[22m\u001b[39m\u001b[36m\u001b[1mInfo: \u001b[22m\u001b[39myou don\tn\n",
      "\u001b[36m\u001b[1m[ \u001b[22m\u001b[39m\u001b[36m\u001b[1mInfo: \u001b[22m\u001b[39mdon '\tn\n",
      "\u001b[36m\u001b[1m[ \u001b[22m\u001b[39m\u001b[36m\u001b[1mInfo: \u001b[22m\u001b[39m' t\tn\n",
      "\u001b[36m\u001b[1m[ \u001b[22m\u001b[39m\u001b[36m\u001b[1mInfo: \u001b[22m\u001b[39mt know\tn\n",
      "\u001b[36m\u001b[1m[ \u001b[22m\u001b[39m\u001b[36m\u001b[1mInfo: \u001b[22m\u001b[39mknow or\tn\n",
      "\u001b[36m\u001b[1m[ \u001b[22m\u001b[39m\u001b[36m\u001b[1mInfo: \u001b[22m\u001b[39mor have\tn\n",
      "\u001b[36m\u001b[1m[ \u001b[22m\u001b[39m\u001b[36m\u001b[1mInfo: \u001b[22m\u001b[39mhave not\tn\n",
      "\u001b[36m\u001b[1m[ \u001b[22m\u001b[39m\u001b[36m\u001b[1mInfo: \u001b[22m\u001b[39mnot used\tn\n",
      "\u001b[36m\u001b[1m[ \u001b[22m\u001b[39m\u001b[36m\u001b[1mInfo: \u001b[22m\u001b[39mused a\tn\n",
      "\u001b[36m\u001b[1m[ \u001b[22m\u001b[39m\u001b[36m\u001b[1mInfo: \u001b[22m\u001b[39ma language\tn\n",
      "\u001b[36m\u001b[1m[ \u001b[22m\u001b[39m\u001b[36m\u001b[1mInfo: \u001b[22m\u001b[39mlanguage ,\tn\n",
      "\u001b[36m\u001b[1m[ \u001b[22m\u001b[39m\u001b[36m\u001b[1mInfo: \u001b[22m\u001b[39m, please\tn\n",
      "\u001b[36m\u001b[1m[ \u001b[22m\u001b[39m\u001b[36m\u001b[1mInfo: \u001b[22m\u001b[39mplease leave\tn\n",
      "\u001b[36m\u001b[1m[ \u001b[22m\u001b[39m\u001b[36m\u001b[1mInfo: \u001b[22m\u001b[39mleave it\tn\n",
      "\u001b[36m\u001b[1m[ \u001b[22m\u001b[39m\u001b[36m\u001b[1mInfo: \u001b[22m\u001b[39mit blank\tn\n",
      "\u001b[36m\u001b[1m[ \u001b[22m\u001b[39m\u001b[36m\u001b[1mInfo: \u001b[22m\u001b[39mblank .\tn\n",
      "\u001b[36m\u001b[1m[ \u001b[22m\u001b[39m\u001b[36m\u001b[1mInfo: \u001b[22m\u001b[39mif you don\tn\n",
      "\u001b[36m\u001b[1m[ \u001b[22m\u001b[39m\u001b[36m\u001b[1mInfo: \u001b[22m\u001b[39myou don '\tn\n",
      "\u001b[36m\u001b[1m[ \u001b[22m\u001b[39m\u001b[36m\u001b[1mInfo: \u001b[22m\u001b[39mdon ' t\tn\n",
      "\u001b[36m\u001b[1m[ \u001b[22m\u001b[39m\u001b[36m\u001b[1mInfo: \u001b[22m\u001b[39m' t know\tn\n",
      "\u001b[36m\u001b[1m[ \u001b[22m\u001b[39m\u001b[36m\u001b[1mInfo: \u001b[22m\u001b[39mt know or\tn\n",
      "\u001b[36m\u001b[1m[ \u001b[22m\u001b[39m\u001b[36m\u001b[1mInfo: \u001b[22m\u001b[39mknow or have\tn\n",
      "\u001b[36m\u001b[1m[ \u001b[22m\u001b[39m\u001b[36m\u001b[1mInfo: \u001b[22m\u001b[39mor have not\tn\n",
      "\u001b[36m\u001b[1m[ \u001b[22m\u001b[39m\u001b[36m\u001b[1mInfo: \u001b[22m\u001b[39mhave not used\tn\n",
      "\u001b[36m\u001b[1m[ \u001b[22m\u001b[39m\u001b[36m\u001b[1mInfo: \u001b[22m\u001b[39mnot used a\tn\n",
      "\u001b[36m\u001b[1m[ \u001b[22m\u001b[39m\u001b[36m\u001b[1mInfo: \u001b[22m\u001b[39mused a language\tn\n",
      "\u001b[36m\u001b[1m[ \u001b[22m\u001b[39m\u001b[36m\u001b[1mInfo: \u001b[22m\u001b[39ma language ,\tn\n",
      "\u001b[36m\u001b[1m[ \u001b[22m\u001b[39m\u001b[36m\u001b[1mInfo: \u001b[22m\u001b[39mlanguage , please\tn\n",
      "\u001b[36m\u001b[1m[ \u001b[22m\u001b[39m\u001b[36m\u001b[1mInfo: \u001b[22m\u001b[39m, please leave\tn\n",
      "\u001b[36m\u001b[1m[ \u001b[22m\u001b[39m\u001b[36m\u001b[1mInfo: \u001b[22m\u001b[39mplease leave it\tn\n",
      "\u001b[36m\u001b[1m[ \u001b[22m\u001b[39m\u001b[36m\u001b[1mInfo: \u001b[22m\u001b[39mleave it blank\tn\n",
      "\u001b[36m\u001b[1m[ \u001b[22m\u001b[39m\u001b[36m\u001b[1mInfo: \u001b[22m\u001b[39mit blank .\tn\n",
      "\u001b[36m\u001b[1m[ \u001b[22m\u001b[39m\u001b[36m\u001b[1mInfo: \u001b[22m\u001b[39mone of\tn\n",
      "\u001b[36m\u001b[1m[ \u001b[22m\u001b[39m\u001b[36m\u001b[1mInfo: \u001b[22m\u001b[39mof my\tn\n",
      "\u001b[36m\u001b[1m[ \u001b[22m\u001b[39m\u001b[36m\u001b[1mInfo: \u001b[22m\u001b[39mmy favorite\tn\n",
      "\u001b[36m\u001b[1m[ \u001b[22m\u001b[39m\u001b[36m\u001b[1mInfo: \u001b[22m\u001b[39mfavorite languages\tn\n",
      "\u001b[36m\u001b[1m[ \u001b[22m\u001b[39m\u001b[36m\u001b[1mInfo: \u001b[22m\u001b[39mlanguages like\tn\n",
      "\u001b[36m\u001b[1m[ \u001b[22m\u001b[39m\u001b[36m\u001b[1mInfo: \u001b[22m\u001b[39mlike neutral\tn\n",
      "\u001b[36m\u001b[1m[ \u001b[22m\u001b[39m\u001b[36m\u001b[1mInfo: \u001b[22m\u001b[39mneutral dislike\tn\n",
      "\u001b[36m\u001b[1m[ \u001b[22m\u001b[39m\u001b[36m\u001b[1mInfo: \u001b[22m\u001b[39mone of my\tn\n",
      "\u001b[36m\u001b[1m[ \u001b[22m\u001b[39m\u001b[36m\u001b[1mInfo: \u001b[22m\u001b[39mof my favorite\tn\n",
      "\u001b[36m\u001b[1m[ \u001b[22m\u001b[39m\u001b[36m\u001b[1mInfo: \u001b[22m\u001b[39mmy favorite languages\tn\n",
      "\u001b[36m\u001b[1m[ \u001b[22m\u001b[39m\u001b[36m\u001b[1mInfo: \u001b[22m\u001b[39mfavorite languages like\tn\n",
      "\u001b[36m\u001b[1m[ \u001b[22m\u001b[39m\u001b[36m\u001b[1mInfo: \u001b[22m\u001b[39mlanguages like neutral\tn\n",
      "\u001b[36m\u001b[1m[ \u001b[22m\u001b[39m\u001b[36m\u001b[1mInfo: \u001b[22m\u001b[39mlike neutral dislike\tn\n",
      "\u001b[36m\u001b[1m[ \u001b[22m\u001b[39m\u001b[36m\u001b[1mInfo: \u001b[22m\u001b[39mshell ,\tn\n",
      "\u001b[36m\u001b[1m[ \u001b[22m\u001b[39m\u001b[36m\u001b[1mInfo: \u001b[22m\u001b[39m, bash\tn\n",
      "\u001b[36m\u001b[1m[ \u001b[22m\u001b[39m\u001b[36m\u001b[1mInfo: \u001b[22m\u001b[39mbash ,\tn\n",
      "\u001b[36m\u001b[1m[ \u001b[22m\u001b[39m\u001b[36m\u001b[1mInfo: \u001b[22m\u001b[39m, powershell\tn\n",
      "\u001b[36m\u001b[1m[ \u001b[22m\u001b[39m\u001b[36m\u001b[1mInfo: \u001b[22m\u001b[39mshell , bash\tn\n",
      "\u001b[36m\u001b[1m[ \u001b[22m\u001b[39m\u001b[36m\u001b[1mInfo: \u001b[22m\u001b[39m, bash ,\tn\n",
      "\u001b[36m\u001b[1m[ \u001b[22m\u001b[39m\u001b[36m\u001b[1mInfo: \u001b[22m\u001b[39mbash , powershell\tn\n",
      "\u001b[36m\u001b[1m[ \u001b[22m\u001b[39m\u001b[36m\u001b[1mInfo: \u001b[22m\u001b[39mc ,\tn\n",
      "\u001b[36m\u001b[1m[ \u001b[22m\u001b[39m\u001b[36m\u001b[1mInfo: \u001b[22m\u001b[39m, c\tn\n",
      "\u001b[36m\u001b[1m[ \u001b[22m\u001b[39m\u001b[36m\u001b[1mInfo: \u001b[22m\u001b[39mc ++\tn\n",
      "\u001b[36m\u001b[1m[ \u001b[22m\u001b[39m\u001b[36m\u001b[1mInfo: \u001b[22m\u001b[39mc , c\tn\n",
      "\u001b[36m\u001b[1m[ \u001b[22m\u001b[39m\u001b[36m\u001b[1mInfo: \u001b[22m\u001b[39m, c ++\tn\n",
      "\u001b[36m\u001b[1m[ \u001b[22m\u001b[39m\u001b[36m\u001b[1mInfo: \u001b[22m\u001b[39mc # \tn\n"
     ]
    }
   ],
   "source": [
    "for t in tokenize(voc.textconfig, L23_[4])\n",
    "    @info t\n",
    "end"
   ]
  }
 ],
 "metadata": {
  "kernelspec": {
   "display_name": "Julia 1.8.0",
   "language": "julia",
   "name": "julia-1.8"
  },
  "language_info": {
   "file_extension": ".jl",
   "mimetype": "application/julia",
   "name": "julia",
   "version": "1.8.0"
  }
 },
 "nbformat": 4,
 "nbformat_minor": 5
}
